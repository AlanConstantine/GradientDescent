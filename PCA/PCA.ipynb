{
 "cells": [
  {
   "cell_type": "code",
   "execution_count": 23,
   "metadata": {
    "ExecuteTime": {
     "end_time": "2019-01-05T18:06:08.618508Z",
     "start_time": "2019-01-05T18:06:08.610394Z"
    }
   },
   "outputs": [],
   "source": [
    "import numpy as np\n",
    "from sklearn.datasets import load_iris"
   ]
  },
  {
   "cell_type": "code",
   "execution_count": 24,
   "metadata": {
    "ExecuteTime": {
     "end_time": "2019-01-05T18:06:12.055132Z",
     "start_time": "2019-01-05T18:06:12.036174Z"
    }
   },
   "outputs": [
    {
     "data": {
      "text/plain": [
       "(150, 4)"
      ]
     },
     "execution_count": 24,
     "metadata": {},
     "output_type": "execute_result"
    }
   ],
   "source": [
    "X = np.mat(load_iris().data)\n",
    "X.shape"
   ]
  },
  {
   "cell_type": "code",
   "execution_count": 25,
   "metadata": {
    "ExecuteTime": {
     "end_time": "2019-01-05T18:06:12.999526Z",
     "start_time": "2019-01-05T18:06:12.987207Z"
    }
   },
   "outputs": [],
   "source": [
    "def pca(data, n):\n",
    "    data_means = np.mean(data, axis=0)\n",
    "    mean_substraction = data-data_means\n",
    "    cov_data = np.cov(mean_substraction, rowvar=0)\n",
    "    eigenvalues, eigenvectors = np.linalg.eig(cov_data)\n",
    "    reduce_n = eigenvalues.argsort()[:-(n+1):-1]\n",
    "    reduce_vec = eigenvectors[:, reduce_n]\n",
    "    low_dim = mean_substraction*reduce_vec\n",
    "    return low_dim"
   ]
  },
  {
   "cell_type": "code",
   "execution_count": 48,
   "metadata": {
    "ExecuteTime": {
     "end_time": "2019-01-05T18:12:03.115897Z",
     "start_time": "2019-01-05T18:12:03.102995Z"
    }
   },
   "outputs": [
    {
     "data": {
      "text/plain": [
       "(150, 3)"
      ]
     },
     "execution_count": 48,
     "metadata": {},
     "output_type": "execute_result"
    }
   ],
   "source": [
    "pca(X, 3).shape"
   ]
  },
  {
   "cell_type": "code",
   "execution_count": 49,
   "metadata": {
    "ExecuteTime": {
     "end_time": "2019-01-05T18:12:06.490296Z",
     "start_time": "2019-01-05T18:12:06.474835Z"
    }
   },
   "outputs": [],
   "source": [
    "import plotly\n",
    "import plotly.graph_objs as go\n",
    "import plotly.plotly as py\n",
    "import numpy as np\n",
    "from plotly.graph_objs import *\n",
    "import plotly.offline as pltoff\n",
    "import warnings\n",
    "warnings.filterwarnings('ignore')\n",
    "\n",
    "\n",
    "plotly.tools.set_credentials_file(\n",
    "    username='laualan', api_key='Hu3EzPwewSXvUEK1isxg')"
   ]
  },
  {
   "cell_type": "code",
   "execution_count": 57,
   "metadata": {
    "ExecuteTime": {
     "end_time": "2019-01-05T18:16:14.236062Z",
     "start_time": "2019-01-05T18:16:12.374848Z"
    }
   },
   "outputs": [
    {
     "data": {
      "text/html": [
       "<iframe id=\"igraph\" scrolling=\"no\" style=\"border:none;\" seamless=\"seamless\" src=\"https://plot.ly/~laualan/6.embed\" height=\"525px\" width=\"100%\"></iframe>"
      ],
      "text/plain": [
       "<plotly.tools.PlotlyDisplay object>"
      ]
     },
     "execution_count": 57,
     "metadata": {},
     "output_type": "execute_result"
    }
   ],
   "source": [
    "# show 3D\n",
    "data_cluster = []\n",
    "x, y, z = pca(X, 3).T\n",
    "targets = load_iris().target\n",
    "\n",
    "for i in range(len(set(targets))):\n",
    "    ind = [np.where(np.array(targets) == i)]\n",
    "    trace = go.Scatter3d(\n",
    "        x=np.array(x)[0][ind][0],\n",
    "        y=np.array(y)[0][ind][0],\n",
    "        z=np.array(z)[0][ind][0],\n",
    "        mode='markers',\n",
    "        marker=dict(\n",
    "            size=4,\n",
    "            symbol='circle',\n",
    "            line=dict(\n",
    "                color='rgb(204, 204, 204)',\n",
    "                width=1\n",
    "            ),\n",
    "            opacity=0.9\n",
    "        )\n",
    "    )\n",
    "    data_cluster.append(trace)\n",
    "\n",
    "layout = go.Layout(\n",
    "    margin=dict(\n",
    "        l=0,\n",
    "        r=0,\n",
    "        b=0,\n",
    "        t=0\n",
    "    )\n",
    ")\n",
    "\n",
    "fig = Figure(data=data_cluster, layout=layout)\n",
    "py.iplot(fig, filename='structure-3d-scatter')"
   ]
  },
  {
   "cell_type": "code",
   "execution_count": null,
   "metadata": {},
   "outputs": [],
   "source": []
  }
 ],
 "metadata": {
  "kernelspec": {
   "display_name": "Python 3",
   "language": "python",
   "name": "python3"
  },
  "language_info": {
   "codemirror_mode": {
    "name": "ipython",
    "version": 3
   },
   "file_extension": ".py",
   "mimetype": "text/x-python",
   "name": "python",
   "nbconvert_exporter": "python",
   "pygments_lexer": "ipython3",
   "version": "3.5.2"
  },
  "toc": {
   "base_numbering": 1,
   "nav_menu": {},
   "number_sections": true,
   "sideBar": true,
   "skip_h1_title": false,
   "title_cell": "Table of Contents",
   "title_sidebar": "Contents",
   "toc_cell": false,
   "toc_position": {},
   "toc_section_display": true,
   "toc_window_display": false
  },
  "varInspector": {
   "cols": {
    "lenName": 16,
    "lenType": 16,
    "lenVar": 40
   },
   "kernels_config": {
    "python": {
     "delete_cmd_postfix": "",
     "delete_cmd_prefix": "del ",
     "library": "var_list.py",
     "varRefreshCmd": "print(var_dic_list())"
    },
    "r": {
     "delete_cmd_postfix": ") ",
     "delete_cmd_prefix": "rm(",
     "library": "var_list.r",
     "varRefreshCmd": "cat(var_dic_list()) "
    }
   },
   "types_to_exclude": [
    "module",
    "function",
    "builtin_function_or_method",
    "instance",
    "_Feature"
   ],
   "window_display": false
  }
 },
 "nbformat": 4,
 "nbformat_minor": 2
}
