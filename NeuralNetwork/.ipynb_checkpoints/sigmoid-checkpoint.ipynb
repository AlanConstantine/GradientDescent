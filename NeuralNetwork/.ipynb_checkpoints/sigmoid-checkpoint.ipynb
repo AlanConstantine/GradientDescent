{
 "cells": [
  {
   "cell_type": "code",
   "execution_count": 72,
   "metadata": {},
   "outputs": [],
   "source": [
    "import numpy as np"
   ]
  },
  {
   "cell_type": "code",
   "execution_count": 73,
   "metadata": {},
   "outputs": [],
   "source": [
    "def sigmoid(z):\n",
    "    return 1 / (1 + np.exp(-z))\n",
    "\n",
    "def weight(a00,a01,a10,a11):\n",
    "    return np.mat([[a00,a01],[a10,a11]])\n",
    "\n",
    "def bias(b0,b1):\n",
    "    return np.mat([[b0,b1]])\n",
    "\n",
    "def neuron(input_,w,b):\n",
    "    return sigmoid(input_.dot(w)+b)"
   ]
  },
  {
   "cell_type": "code",
   "execution_count": null,
   "metadata": {},
   "outputs": [],
   "source": [
    "# target\n",
    "y=np.array([1,1])"
   ]
  },
  {
   "cell_type": "code",
   "execution_count": 65,
   "metadata": {},
   "outputs": [],
   "source": [
    "# input\n",
    "x=np.array([1,0])"
   ]
  },
  {
   "cell_type": "code",
   "execution_count": 67,
   "metadata": {},
   "outputs": [
    {
     "data": {
      "text/plain": [
       "matrix([[0.98201379, 0.99752738]])"
      ]
     },
     "execution_count": 67,
     "metadata": {},
     "output_type": "execute_result"
    }
   ],
   "source": [
    "# iterate 1\n",
    "# layer1\n",
    "\n",
    "w1=weight(1,2,2,1)\n",
    "b1=np.mat([[3,4]])\n",
    "\n",
    "a1=neuron(x,w1,b1)\n",
    "a1"
   ]
  },
  {
   "cell_type": "code",
   "execution_count": 68,
   "metadata": {},
   "outputs": [
    {
     "data": {
      "text/plain": [
       "matrix([[0.98310285, 0.99935073]])"
      ]
     },
     "execution_count": 68,
     "metadata": {},
     "output_type": "execute_result"
    }
   ],
   "source": [
    "# layer2\n",
    "\n",
    "w2=weight(3,5,1,0.43)\n",
    "b2=bias(0.12,2)\n",
    "\n",
    "a2=neuron(a1,w2,b2)\n",
    "a2"
   ]
  },
  {
   "cell_type": "code",
   "execution_count": 71,
   "metadata": {},
   "outputs": [
    {
     "data": {
      "text/plain": [
       "matrix([[0.99962933, 0.99998979]])"
      ]
     },
     "execution_count": 71,
     "metadata": {},
     "output_type": "execute_result"
    }
   ],
   "source": [
    "# layer3\n",
    "\n",
    "w3=weight(6,9,0.0012,0.412)\n",
    "b3=bias(2,2.2323)\n",
    "\n",
    "a3=neuron(a2,w3,b3)\n",
    "a3"
   ]
  },
  {
   "cell_type": "code",
   "execution_count": null,
   "metadata": {},
   "outputs": [],
   "source": []
  }
 ],
 "metadata": {
  "kernelspec": {
   "display_name": "Python 3",
   "language": "python",
   "name": "python3"
  },
  "language_info": {
   "codemirror_mode": {
    "name": "ipython",
    "version": 3
   },
   "file_extension": ".py",
   "mimetype": "text/x-python",
   "name": "python",
   "nbconvert_exporter": "python",
   "pygments_lexer": "ipython3",
   "version": "3.6.2"
  }
 },
 "nbformat": 4,
 "nbformat_minor": 2
}
