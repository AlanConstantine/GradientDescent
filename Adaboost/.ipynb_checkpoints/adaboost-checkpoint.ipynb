{
 "cells": [
  {
   "cell_type": "code",
   "execution_count": 4,
   "metadata": {},
   "outputs": [],
   "source": [
    "# -*- coding: utf-8 -*-\n",
    "# @Author: Alan Lau\n",
    "# @Date: 2018-09-24 17:05:38\n",
    "\n",
    "import numpy as np\n",
    "\n",
    "\n",
    "def loadSimpData():\n",
    "    datMat = np.matrix([[1.,  2.1],\n",
    "                        [2.,  1.1],\n",
    "                        [1.3,  1.],\n",
    "                        [1.,  1.],\n",
    "                        [2.,  1.]])\n",
    "    classLabels = np.matrix([1.0, 1.0, -1.0, -1.0, 1.0])\n",
    "    return datMat, classLabels"
   ]
  },
  {
   "cell_type": "code",
   "execution_count": null,
   "metadata": {},
   "outputs": [],
   "source": [
    "class Adaboost(object):\n",
    "    def __init__(self, datMat, classLabels):\n",
    "        # super(Adaboost, self).__init__(*args))\n",
    "        self.datMat = datMat\n",
    "        self.classLabels = classLabels\n",
    "        self.m, self.n = datMat.shape\n",
    "        self.D = np.full((self.m, 1), 1 / self.m)\n",
    "\n",
    "    def buildstump(self):\n",
    "        for i in range(self.n):\n",
    "            print(self.datMat[:, i])"
   ]
  }
 ],
 "metadata": {
  "kernelspec": {
   "display_name": "Python 3",
   "language": "python",
   "name": "python3"
  },
  "language_info": {
   "codemirror_mode": {
    "name": "ipython",
    "version": 3
   },
   "file_extension": ".py",
   "mimetype": "text/x-python",
   "name": "python",
   "nbconvert_exporter": "python",
   "pygments_lexer": "ipython3",
   "version": "3.5.2"
  }
 },
 "nbformat": 4,
 "nbformat_minor": 2
}
